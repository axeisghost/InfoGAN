{
 "cells": [
  {
   "cell_type": "markdown",
   "metadata": {},
   "source": [
    "# Reimplementing the CelebA experiment\n",
    "\n",
    "In this notebook, I'm trying to reimplement the CelebA experiment results from the awesome [InfoGAN paper](https://arxiv.org/pdf/1606.03657v1.pdf) (Chen et al.).\n",
    "\n",
    "My relevant additions to this repository (which contains the code published by the authors) are adding the \"celebA\" model to [infogan/models/regularized_gan.py](infogan/models/regularized_gan.py) and some small adjustments to [infogan/algos/infogan_trainer.py](infogan/algos/infogan_trainer.py) to allow for generating samples after training."
   ]
  },
  {
   "cell_type": "code",
   "execution_count": 14,
   "metadata": {
    "collapsed": false
   },
   "outputs": [
    {
     "name": "stdout",
     "output_type": "stream",
     "text": [
      "Populating the interactive namespace from numpy and matplotlib\n"
     ]
    }
   ],
   "source": [
    "%pylab inline"
   ]
  },
  {
   "cell_type": "code",
   "execution_count": 15,
   "metadata": {
    "collapsed": false
   },
   "outputs": [],
   "source": [
    "from __future__ import print_function\n",
    "from __future__ import absolute_import\n",
    "from infogan.misc.distributions import Uniform, Categorical, Gaussian, MeanBernoulli\n",
    "\n",
    "import tensorflow as tf\n",
    "from infogan.misc.celebA_dataset import CelebADataset\n",
    "from infogan.models.regularized_gan import RegularizedGAN\n",
    "from infogan.algos.infogan_trainer import InfoGANTrainer\n",
    "from infogan.misc.utils import mkdir_p\n",
    "import dateutil\n",
    "import dateutil.tz\n",
    "import datetime\n",
    "import os\n",
    "\n",
    "import numpy as np\n",
    "\n",
    "from matplotlib import pyplot as plt\n",
    "from display_utils import display_images\n",
    "import display_utils"
   ]
  },
  {
   "cell_type": "code",
   "execution_count": 16,
   "metadata": {
    "collapsed": false
   },
   "outputs": [],
   "source": [
    "root_log_dir = \"logs/celebA\"\n",
    "root_checkpoint_dir = \"ckt/celebA\"\n",
    "batch_size = 128\n",
    "updates_per_epoch = 1    # How often to run the logging.\n",
    "checkpoint_snapshot_interval = 1000  # Save a snapshot of the model every __ updates.\n",
    "max_epoch = 1"
   ]
  },
  {
   "cell_type": "code",
   "execution_count": 17,
   "metadata": {
    "collapsed": true
   },
   "outputs": [],
   "source": [
    "# The \"C.3 CelebA\" input settings:\n",
    "# \"For this task, we use 10 ten-dimensional categorical code and 128 noise variables, resulting in a concatenated dimension of 228..\"\n",
    "c3_celebA_latent_spec = [\n",
    "    (Uniform(128), False),  # Noise\n",
    "    (Categorical(10), True),\n",
    "    (Categorical(10), True),\n",
    "    (Categorical(10), True),\n",
    "    (Categorical(10), True),\n",
    "    (Categorical(10), True),\n",
    "    (Categorical(10), True),\n",
    "    (Categorical(10), True),\n",
    "    (Categorical(10), True),\n",
    "    (Categorical(10), True),\n",
    "    (Categorical(10), True),\n",
    "]\n",
    "c3_celebA_image_size = 32"
   ]
  },
  {
   "cell_type": "code",
   "execution_count": 18,
   "metadata": {
    "collapsed": false
   },
   "outputs": [
    {
     "name": "stdout",
     "output_type": "stream",
     "text": [
      "Loaded 250 images into Dataset.\n",
      "Split 150 images into training set.\n",
      "Image shape:  (32, 32, 3)\n"
     ]
    }
   ],
   "source": [
    "dataset = CelebADataset(250)  # The full dataset is enormous (202,599 frames).\n",
    "\n",
    "print(\"Loaded {} images into Dataset.\".format(len(dataset.raw_images)))\n",
    "print(\"Split {} images into training set.\".format(len(dataset.train.images)))\n",
    "print(\"Image shape: \",dataset.image_shape)"
   ]
  },
  {
   "cell_type": "code",
   "execution_count": 6,
   "metadata": {
    "collapsed": false
   },
   "outputs": [
    {
     "name": "stdout",
     "output_type": "stream",
     "text": [
      "Displaying some training Images...\n",
      " Click to play!\n",
      "(32, 32, 3)\n"
     ]
    },
    {
     "name": "stderr",
     "output_type": "stream",
     "text": [
      "/usr/local/lib/python2.7/dist-packages/matplotlib/animation.py:782: UserWarning: MovieWriter ffmpeg unavailable\n",
      "  warnings.warn(\"MovieWriter %s unavailable\" % writer)\n"
     ]
    },
    {
     "ename": "ValueError",
     "evalue": "Cannot save animation: no writers are available. Please install mencoder or ffmpeg to save animations.",
     "output_type": "error",
     "traceback": [
      "\u001b[1;31m---------------------------------------------------------------------------\u001b[0m",
      "\u001b[1;31mValueError\u001b[0m                                Traceback (most recent call last)",
      "\u001b[1;32m<ipython-input-6-bb41bcd66d99>\u001b[0m in \u001b[0;36m<module>\u001b[1;34m()\u001b[0m\n\u001b[0;32m      1\u001b[0m \u001b[1;32mprint\u001b[0m\u001b[1;33m(\u001b[0m\u001b[1;34m\"Displaying some training Images...\\n Click to play!\"\u001b[0m\u001b[1;33m)\u001b[0m\u001b[1;33m\u001b[0m\u001b[0m\n\u001b[1;32m----> 2\u001b[1;33m \u001b[0mdisplay_images\u001b[0m\u001b[1;33m(\u001b[0m\u001b[1;33m[\u001b[0m\u001b[0mframe\u001b[0m\u001b[1;33m.\u001b[0m\u001b[0mreshape\u001b[0m\u001b[1;33m(\u001b[0m\u001b[0mdataset\u001b[0m\u001b[1;33m.\u001b[0m\u001b[0mimage_shape\u001b[0m\u001b[1;33m)\u001b[0m \u001b[1;32mfor\u001b[0m \u001b[0mframe\u001b[0m \u001b[1;32min\u001b[0m \u001b[0mdataset\u001b[0m\u001b[1;33m.\u001b[0m\u001b[0mtrain\u001b[0m\u001b[1;33m.\u001b[0m\u001b[0mimages\u001b[0m\u001b[1;33m[\u001b[0m\u001b[1;33m:\u001b[0m\u001b[1;36m30\u001b[0m\u001b[1;33m]\u001b[0m\u001b[1;33m]\u001b[0m\u001b[1;33m)\u001b[0m\u001b[1;33m\u001b[0m\u001b[0m\n\u001b[0m",
      "\u001b[1;32m/InfoGAN/display_utils.pyc\u001b[0m in \u001b[0;36mdisplay_images\u001b[1;34m(frames, interval)\u001b[0m\n\u001b[0;32m     57\u001b[0m     \u001b[1;31m# call the animator.  blit=True means only re-draw the parts that have changed.\u001b[0m\u001b[1;33m\u001b[0m\u001b[1;33m\u001b[0m\u001b[0m\n\u001b[0;32m     58\u001b[0m     return display_animation(animation.FuncAnimation(fig, animate, init_func=init,\n\u001b[1;32m---> 59\u001b[1;33m                                    frames=len(frames), interval=interval, blit=True))\n\u001b[0m\u001b[0;32m     60\u001b[0m \u001b[1;33m\u001b[0m\u001b[0m\n\u001b[0;32m     61\u001b[0m \u001b[1;33m\u001b[0m\u001b[0m\n",
      "\u001b[1;32m/InfoGAN/display_utils.pyc\u001b[0m in \u001b[0;36mdisplay_animation\u001b[1;34m(anim)\u001b[0m\n\u001b[0;32m     28\u001b[0m \u001b[1;32mdef\u001b[0m \u001b[0mdisplay_animation\u001b[0m\u001b[1;33m(\u001b[0m\u001b[0manim\u001b[0m\u001b[1;33m)\u001b[0m\u001b[1;33m:\u001b[0m\u001b[1;33m\u001b[0m\u001b[0m\n\u001b[0;32m     29\u001b[0m     \u001b[0mplt\u001b[0m\u001b[1;33m.\u001b[0m\u001b[0mclose\u001b[0m\u001b[1;33m(\u001b[0m\u001b[0manim\u001b[0m\u001b[1;33m.\u001b[0m\u001b[0m_fig\u001b[0m\u001b[1;33m)\u001b[0m\u001b[1;33m\u001b[0m\u001b[0m\n\u001b[1;32m---> 30\u001b[1;33m     \u001b[1;32mreturn\u001b[0m \u001b[0mHTML\u001b[0m\u001b[1;33m(\u001b[0m\u001b[0manim_to_html\u001b[0m\u001b[1;33m(\u001b[0m\u001b[0manim\u001b[0m\u001b[1;33m)\u001b[0m\u001b[1;33m)\u001b[0m\u001b[1;33m\u001b[0m\u001b[0m\n\u001b[0m\u001b[0;32m     31\u001b[0m \u001b[1;33m\u001b[0m\u001b[0m\n\u001b[0;32m     32\u001b[0m \u001b[1;33m\u001b[0m\u001b[0m\n",
      "\u001b[1;32m/InfoGAN/display_utils.pyc\u001b[0m in \u001b[0;36manim_to_html\u001b[1;34m(anim)\u001b[0m\n\u001b[0;32m     14\u001b[0m     \u001b[1;32mif\u001b[0m \u001b[1;32mnot\u001b[0m \u001b[0mhasattr\u001b[0m\u001b[1;33m(\u001b[0m\u001b[0manim\u001b[0m\u001b[1;33m,\u001b[0m \u001b[1;34m'_encoded_video'\u001b[0m\u001b[1;33m)\u001b[0m\u001b[1;33m:\u001b[0m\u001b[1;33m\u001b[0m\u001b[0m\n\u001b[0;32m     15\u001b[0m         \u001b[1;32mwith\u001b[0m \u001b[0mNamedTemporaryFile\u001b[0m\u001b[1;33m(\u001b[0m\u001b[0msuffix\u001b[0m\u001b[1;33m=\u001b[0m\u001b[1;34m'.mp4'\u001b[0m\u001b[1;33m)\u001b[0m \u001b[1;32mas\u001b[0m \u001b[0mf\u001b[0m\u001b[1;33m:\u001b[0m\u001b[1;33m\u001b[0m\u001b[0m\n\u001b[1;32m---> 16\u001b[1;33m             \u001b[0manim\u001b[0m\u001b[1;33m.\u001b[0m\u001b[0msave\u001b[0m\u001b[1;33m(\u001b[0m\u001b[0mf\u001b[0m\u001b[1;33m.\u001b[0m\u001b[0mname\u001b[0m\u001b[1;33m,\u001b[0m \u001b[0mfps\u001b[0m\u001b[1;33m=\u001b[0m\u001b[1;36m1000.\u001b[0m\u001b[1;33m/\u001b[0m\u001b[0manim\u001b[0m\u001b[1;33m.\u001b[0m\u001b[0m_interval\u001b[0m\u001b[1;33m,\u001b[0m \u001b[0mextra_args\u001b[0m\u001b[1;33m=\u001b[0m\u001b[1;33m[\u001b[0m\u001b[1;34m'-vcodec'\u001b[0m\u001b[1;33m,\u001b[0m \u001b[1;34m'libx264'\u001b[0m\u001b[1;33m]\u001b[0m\u001b[1;33m)\u001b[0m\u001b[1;33m\u001b[0m\u001b[0m\n\u001b[0m\u001b[0;32m     17\u001b[0m             \u001b[0mvideo\u001b[0m \u001b[1;33m=\u001b[0m \u001b[0mopen\u001b[0m\u001b[1;33m(\u001b[0m\u001b[0mf\u001b[0m\u001b[1;33m.\u001b[0m\u001b[0mname\u001b[0m\u001b[1;33m,\u001b[0m \u001b[1;34m\"rb\"\u001b[0m\u001b[1;33m)\u001b[0m\u001b[1;33m.\u001b[0m\u001b[0mread\u001b[0m\u001b[1;33m(\u001b[0m\u001b[1;33m)\u001b[0m\u001b[1;33m\u001b[0m\u001b[0m\n\u001b[0;32m     18\u001b[0m         \u001b[0manim\u001b[0m\u001b[1;33m.\u001b[0m\u001b[0m_encoded_video\u001b[0m \u001b[1;33m=\u001b[0m \u001b[0mvideo\u001b[0m\u001b[1;33m.\u001b[0m\u001b[0mencode\u001b[0m\u001b[1;33m(\u001b[0m\u001b[1;34m\"base64\"\u001b[0m\u001b[1;33m)\u001b[0m\u001b[1;33m\u001b[0m\u001b[0m\n",
      "\u001b[1;32m/usr/local/lib/python2.7/dist-packages/matplotlib/animation.pyc\u001b[0m in \u001b[0;36msave\u001b[1;34m(self, filename, writer, fps, dpi, codec, bitrate, extra_args, metadata, extra_anim, savefig_kwargs)\u001b[0m\n\u001b[0;32m    787\u001b[0m                                                         metadata=metadata)\n\u001b[0;32m    788\u001b[0m                 \u001b[1;32mexcept\u001b[0m \u001b[0mIndexError\u001b[0m\u001b[1;33m:\u001b[0m\u001b[1;33m\u001b[0m\u001b[0m\n\u001b[1;32m--> 789\u001b[1;33m                     raise ValueError(\"Cannot save animation: no writers are \"\n\u001b[0m\u001b[0;32m    790\u001b[0m                                      \u001b[1;34m\"available. Please install mencoder or \"\u001b[0m\u001b[1;33m\u001b[0m\u001b[0m\n\u001b[0;32m    791\u001b[0m                                      \"ffmpeg to save animations.\")\n",
      "\u001b[1;31mValueError\u001b[0m: Cannot save animation: no writers are available. Please install mencoder or ffmpeg to save animations."
     ]
    }
   ],
   "source": [
    "print(\"Displaying some training Images...\\n Click to play!\")\n",
    "display_images([frame.reshape(dataset.image_shape) for frame in dataset.train.images[:30]])"
   ]
  },
  {
   "cell_type": "code",
   "execution_count": 10,
   "metadata": {
    "collapsed": false
   },
   "outputs": [],
   "source": [
    "model = RegularizedGAN(\n",
    "    output_dist=MeanBernoulli(dataset.image_dim),\n",
    "    latent_spec=c3_celebA_latent_spec,  # Trying with the above celebA latent_spec.\n",
    "    batch_size=batch_size,\n",
    "    image_shape=dataset.image_shape,\n",
    "    # Trying with my new celebA network!\n",
    "    network_type=\"celebA\",\n",
    ")"
   ]
  },
  {
   "cell_type": "code",
   "execution_count": 11,
   "metadata": {
    "collapsed": false,
    "scrolled": true
   },
   "outputs": [],
   "source": [
    "now = datetime.datetime.now(dateutil.tz.tzlocal())\n",
    "timestamp = now.strftime('%Y_%m_%d_%H_%M_%S')\n",
    "exp_name = \"celebA_model_celebA_codes_color_img-align-celeba_10_%s\" % timestamp\n",
    "\n",
    "log_dir = os.path.join(root_log_dir, exp_name)\n",
    "checkpoint_dir = os.path.join(root_checkpoint_dir, exp_name)\n",
    "\n",
    "mkdir_p(log_dir)\n",
    "mkdir_p(checkpoint_dir)\n",
    "\n",
    "algo = InfoGANTrainer(\n",
    "    model=model,\n",
    "    dataset=dataset,\n",
    "    batch_size=batch_size,\n",
    "    exp_name=exp_name,\n",
    "    log_dir=log_dir,\n",
    "    checkpoint_dir=checkpoint_dir,\n",
    "    max_epoch=max_epoch,\n",
    "    updates_per_epoch=updates_per_epoch,\n",
    "    snapshot_interval=checkpoint_snapshot_interval,\n",
    "    info_reg_coeff=1.0,\n",
    "    generator_learning_rate=1e-3,  # original paper's learning rate was 1e-3\n",
    "    discriminator_learning_rate=2e-4,  # original paper's learning rate was 2e-4\n",
    ")"
   ]
  },
  {
   "cell_type": "code",
   "execution_count": 12,
   "metadata": {
    "collapsed": true
   },
   "outputs": [],
   "source": [
    "#algo.visualize_all_factors()  # ... what does this do?"
   ]
  },
  {
   "cell_type": "code",
   "execution_count": 13,
   "metadata": {
    "collapsed": false,
    "scrolled": true
   },
   "outputs": [
    {
     "name": "stderr",
     "output_type": "stream",
     "text": []
    },
    {
     "name": "stdout",
     "output_type": "stream",
     "text": [
      "Epoch 0 | discriminator_loss: 1.08729; generator_loss: 2.11784; MI_disc: -0.012434; CrossEnt_disc: 23.0383; MI: -0.012434; CrossEnt: 23.0383; max_real_d: 0.90728; min_real_d: 0.214812; max_fake_d: 0.352275; min_fake_d: 0.326836\n"
     ]
    }
   ],
   "source": [
    "sess = tf.Session()\n",
    "\n",
    "algo.train(sess=sess)"
   ]
  },
  {
   "cell_type": "code",
   "execution_count": null,
   "metadata": {
    "collapsed": true
   },
   "outputs": [],
   "source": []
  },
  {
   "cell_type": "code",
   "execution_count": null,
   "metadata": {
    "collapsed": true
   },
   "outputs": [],
   "source": []
  },
  {
   "cell_type": "markdown",
   "metadata": {},
   "source": [
    "## Using the Trained Model: Generating Images\n",
    "\n",
    "Alright! Now we've trained the model on our data, and we can use it to generate some new images!\n",
    "\n",
    "We can just reuse the tiny piece of the TensorFlow graph that generates fake samples, $x$, from the learned distribution. We'll reuse the same `sess` variable that we used for training, so that all the variables still hold their learned values!"
   ]
  },
  {
   "cell_type": "code",
   "execution_count": 10,
   "metadata": {
    "collapsed": false
   },
   "outputs": [],
   "source": [
    "def make_one_hot(length, value):\n",
    "    v = np.zeros(length)\n",
    "    v[value] = 1\n",
    "    return v\n",
    "def make_z(latent_spec, vals, noise = None):\n",
    "    ''' noise - if specified will use provided noise, otherwise will generate noise from noise_dim. '''\n",
    "    if noise is None:\n",
    "        noise = np.random.rand(latent_spec[0][0].dim)\n",
    "    \n",
    "    codes = [make_one_hot(10, v) if isinstance(latent_spec[i+1][0],Categorical) else [v] for i,v in enumerate(vals)]\n",
    "    return np.concatenate([noise]+codes)"
   ]
  },
  {
   "cell_type": "code",
   "execution_count": 11,
   "metadata": {
    "collapsed": false
   },
   "outputs": [],
   "source": [
    "def generate_images_for_codes(latent_spec, codes, noise = None):\n",
    "    ''' codes = 10 values 0-10 which represent the GAN codes (z). '''\n",
    "    # Unfortunately, for now, I have to generate batch_size images at a time still.\n",
    "    custom_z = np.asarray([make_z(latent_spec, codes, noise) for _ in range(batch_size)])\n",
    "    return sess.run(algo.fake_x, feed_dict={algo.use_manual_z_input:1, algo.z_input: custom_z})"
   ]
  },
  {
   "cell_type": "code",
   "execution_count": 13,
   "metadata": {
    "collapsed": false
   },
   "outputs": [
    {
     "name": "stdout",
     "output_type": "stream",
     "text": [
      "Displaying sampled images as movie. Click to play.\n",
      "(32, 32, 3)\n"
     ]
    },
    {
     "data": {
      "text/html": [
       "<video controls>\n",
       " <source src=\"data:video/x-m4v;base64,AAAAIGZ0eXBpc29tAAACAGlzb21pc28yYXZjMW1wNDEAAAAIZnJlZQAAKsJtZGF0AAACnwYF//+b\n",
       "3EXpvebZSLeWLNgg2SPu73gyNjQgLSBjb3JlIDEzOCAtIEguMjY0L01QRUctNCBBVkMgY29kZWMg\n",
       "LSBDb3B5bGVmdCAyMDAzLTIwMTMgLSBodHRwOi8vd3d3LnZpZGVvbGFuLm9yZy94MjY0Lmh0bWwg\n",
       "LSBvcHRpb25zOiBjYWJhYz0xIHJlZj0zIGRlYmxvY2s9MTowOjAgYW5hbHlzZT0weDM6MHgxMTMg\n",
       "bWU9aGV4IHN1Ym1lPTcgcHN5PTEgcHN5X3JkPTEuMDA6MC4wMCBtaXhlZF9yZWY9MSBtZV9yYW5n\n",
       "ZT0xNiBjaHJvbWFfbWU9MSB0cmVsbGlzPTEgOHg4ZGN0PTEgY3FtPTAgZGVhZHpvbmU9MjEsMTEg\n",
       "ZmFzdF9wc2tpcD0xIGNocm9tYV9xcF9vZmZzZXQ9NCB0aHJlYWRzPTYgbG9va2FoZWFkX3RocmVh\n",
       "ZHM9MSBzbGljZWRfdGhyZWFkcz0wIG5yPTAgZGVjaW1hdGU9MSBpbnRlcmxhY2VkPTAgYmx1cmF5\n",
       "X2NvbXBhdD0wIGNvbnN0cmFpbmVkX2ludHJhPTAgYmZyYW1lcz0zIGJfcHlyYW1pZD0yIGJfYWRh\n",
       "cHQ9MSBiX2JpYXM9MCBkaXJlY3Q9MSB3ZWlnaHRiPTEgb3Blbl9nb3A9MCB3ZWlnaHRwPTIga2V5\n",
       "aW50PTI1MCBrZXlpbnRfbWluPTEwIHNjZW5lY3V0PTQwIGludHJhX3JlZnJlc2g9MCByY19sb29r\n",
       "YWhlYWQ9NDAgcmM9Y3JmIG1idHJlZT0xIGNyZj0yMy4wIHFjb21wPTAuNjAgcXBtaW49MCBxcG1h\n",
       "eD02OSBxcHN0ZXA9NCBpcF9yYXRpbz0xLjQwIGFxPTE6MS4wMACAAAASMGWIhAAR//73UfwKbdAg\n",
       "N7//9P/k54UgKI546/AAAAMBa5LAABAi6NMmvUAOLU8VaMmPkcvxAiYB6JGlXJwxAyU2mczjYv6U\n",
       "qjA/8cmAPGw/hg4RFJ93SNAgDsjLJptasxLyTIkaaSCnKj6rcCIjkUGeKDPSzl8cwAdlvg/GvzIK\n",
       "BbauOydbVLh2qZAVnERegAaki78kUh2BcgGkFlXSSo8+AH+uCcpVAFDmrljdrNTibM7Hg+FWeInj\n",
       "yfM6WWpq2zrq5Xx1wIz2UbltTFvFULO1r76JPt8fn0iecu/WkHJ0Xzroj8BWG2GSBibDPT4T/+R4\n",
       "1LuMooX9UqpbGMM5S4O49o7c1MmDbJFwNcg++jhpXz1FeKyrouVjb0ADrkMhW1mVsXE4wbbuoEE7\n",
       "cKyWVAdvzUez8T+mzcaMJUZnuILvRzIjhbW8med1HeRsCKNAqyzKIZ4eXzLXS5s9T8tjq/OKxByk\n",
       "AMFsaUJOO6haqA5IUYGUor7vPgeruQ4y5nmf1Nwgu4GEe7ZQRbFHx43TfYNt3QlfiaGqg/LAKFCB\n",
       "Ij8zkCh82uHJEi9B0k0l9S7Uf91Ts6qN9r3onH843dWUmrn2QutpxBAEGUZx+WRSQd+uk+pTlidl\n",
       "NM+2n1+VL1XBJfD5jtmx/NQeIXVog0e5Q8vDILHZHMev8JXXhTB3ssVW3yaMT+JEQSSfM6uocHC+\n",
       "8c1g88iBQzK6k0FXk8kJ94QPYqivaw+eVdz8Qm3Sr5QJ+H3jAmJvJCHAUPFj3of+uBhDbAhga7Uv\n",
       "hYGBtrz02mCHfqvaqOQFgLlPeRStHPPBvjYlgI/0U1CwnYIzcDONjR+bt+5AvShqLOwJjDtJQP3/\n",
       "f/bZKyVQAzeF8Dg8KuXrSrZc/eWQ29lzFNl+9FT8k+1QhTi6p330c50zWDI9LquS3K3mMyVHgMTE\n",
       "r8dzqOKclqWcEJOsvOET11LAk6d+MGZ/hQKXnUZgwxf4l+vfspv5rO+iVxbUzALHSWwf6XpwcOEr\n",
       "HoC9ChsFdqho23LGQAH1yT4YccUoCb+m1NMykzUFt0j+VghH1NrBMCotZBauYVqTamozwBXsYOoB\n",
       "ACvssgo+Evi5bexrczYhlEOv0NsMFnErADAtPT6AHceZ/udvT+zrsSh6qIdFCwGSdfTrsxpzPXRO\n",
       "deRVBptEQpWgW3fYgCmTygwHY4mpschg07btlyi/LgzFjOzaLL5AKbKj1fxO/5EUPdXT5bZTH80w\n",
       "RcRMdwNXTU+4Vud3wK/LgVEpEchAshyfV2fMgErLjfhxt9ZADI+qLSpSvCP+zejtm3IrhNUKwG6F\n",
       "CWvvI8/su/FnMsxIH2btGvzNPR3ildqp//y4HqBej5g12xQQPe8V+R6EvZXinID/R0hF2gqvnaSP\n",
       "ba5p2Q4AaYayXpDsv+YW9WF1Y3OkWYyeE9ZLEw4wDUFYScaD5mE7HE7THzxHYDC+uYCJgAACqRwQ\n",
       "FU2UU371/E23Ew6Zi7AH3roNSZRC7c3zdJ8rlfYf9OnXillu+fcGz+w3rYPmfy7UaDfNzmhb2QWw\n",
       "Bn0jWYwXzDOp/4ZFtjL/VqYJIHF+mcpLErNltHNnHzOxxZwOd4lRrJ56PX5E9sH0sVUWwFdh1h05\n",
       "LrUfrXtjDpo6CVMcBM9YMRaiEoI+d1ppvGm8mS0EPWMwJ8079i/jVUtYfOLDqfbATyGRIa/JqlY9\n",
       "oCSZKqeMLIegYRYdLqsTA6TRHwe3L9thpvd4c3eT+KTDiOAOks0VT7DoAACD4Lx8N2Qj7yXsl+kT\n",
       "7ZzDY3DI3nQMleeIMHEAroXbG9DdeZB7CVGk/MAVqL/bm16BPF7Mm9IoxiYaiUB2y/RhcQy2shTQ\n",
       "tN5hDh0ErmPcvSq+zOxMxYTbrOucGsCj7klH4iBhiRWaioNYlBLfp6pcf6AUHGbkC0yUzbPLH2oF\n",
       "B7qX/J71GJyjZjR4uHqbOQJqnGGG2WpRl5TUSVbBKSDCZpavrr97GsibgXuZFds71HjxFBVh2hT9\n",
       "SReWRABG0nAANmoS8kXHIQWzeLNLMLTx/OxNpoaSytaco6IgbdgW8OhFQk4tDsEotzpYRcOYjHm9\n",
       "xOLvDX3kCYdWzBk8ASUGRD/Syq0RuS+BrOEfclKdHsMVaWmzTz4Eg5YViHXxWUt+kvi6gT0DV7AL\n",
       "T7SakO+E3S76Bc7A2AwbRAwAjWA2W51awucNM2CL+Ul2sUPFowL8xIhh+tPyxbq3u2oHgERq+9+W\n",
       "VU1DlVB87BjWzEjusnuUqmROoYZH/XdMRRzy0rzvQOFCHRMjHxqw/73rHocfxEHjyjgk12RcqHfu\n",
       "R10e7iCahH9SIynU8/8b2UUWCI79VArm6yvHnA6HuHZ46/+3P47SMV672NNkYXpS11kLijZvKk5f\n",
       "HV4Oi8ckZk8wNupD8ZF7iybTf6Z26wOxer9GLTcaZJrAc7xXerZ04Zm8oEH4yywAyIviWmhzyzmi\n",
       "Hwlxrifs7jKOQvNVsrE2it2H3bJnqmmICC5dAoJ/SKe4P4jMnA7nSatDw7ZOvYgQlPPfoPTZ5Nh3\n",
       "MAB2ERuJZOpoYNuPdjYS3Fg3LE94k0CUiIBThfLXNqHSjEa1WxPxyI2SFHDYJsilbGr4y4VTk3Ca\n",
       "JpIPc6dDmo1iRgTJZgTn2KGSK27FDI/EpXMArIonkSg8R1JBS5Whgto52gyPhC8vHtbKwoL7Xvaw\n",
       "6YoGcSh8IOnYkz1etWc29rK1wBCS0PIZC9Ckk00etrW1c7Z52+Xi4S2TQ9DevWMquuKq74iH/kHR\n",
       "mJymi4C5Z1FqXxDlP64MbCBkdG8mBIgFwKa/Y3KBhcFamS0KhIXAW5YYD0qIFgU2cDuWKJVz1S+y\n",
       "7sx/4HcLtvodyMbw65A8PqugmxomAb9SeK+UPy8Rq4A7ARXFaA/o+GCaQB+KWipJ1+zUS7zXI1HD\n",
       "b9XPgl33B/ufWLBM57Kg7G+FPCksGffwJ74zejOrGsCRznAAkuH47Ca/JJo9E39GrfclSBfiq/2w\n",
       "BfIWQsGljVSZngsTco1roWB6Ge3FXUOqLtXhtvCLzjG0yUdE/C/tVqkS+NiXyLsmSHoflPUB5R0E\n",
       "iHZbIhsVmn+EIjBanGqgipBEZ/3F2lCkoI9NxFeQSrmZAjiyWZ1uDbGtktZkQPy4kOlzjpyF0Fjf\n",
       "BNjKIkqoSQk35B3gYd7BgyMH1NhTus89TJa1HweeeVNj0PUBHf3jQ61Q5X4S1Z1nYf1TcMf6+SKV\n",
       "jNta607tQt88MJEQ38140ANHVGae8NbyeHWR+b61nQVdneS+nK8OSZf/13gRL75voygF/2BQddmD\n",
       "pw7oNluaI0n5eHrIjw4oVIp5KDTqBSAMf/lc8Wg1uBibUba2CHyTJIIxWdIQHb44CNLj1vbgWNgw\n",
       "3Z2jLNqL1+zDcv+kTZCWiF/ld4PnkYxySqJdStfg3C9L6lhGug4iR1lQRuhd6ut0+BX85rm1rujn\n",
       "37jyY6S+P/hSDww0uwgOTraxDsl6l6pMEMKRGDXKZHb46/YqnRHZ7ohmKKa52uavgIqRJSHxu9QR\n",
       "6wktI90I/i1OIf65hcBnwOPv2pQ3KVoyHKxi0tRTN0XScldZeiUMbY5/jabG+ZIVi5WjRm521BsA\n",
       "dyC2t2Bqn/9e//PUhl/sMoYtuz1NcIpsddbQ8mFWxmLNL79TSnlUz/3LbeFJBqA1uUTaWid3WFeS\n",
       "FmsAB/WC1Ctbb8VEjH3pFpfmUZqGiPCET3BCz6tZ4IQeTpxb6KPRVMi6L/i2Na3/0uWchaO0Q6ff\n",
       "BU4G/b/ePnmUdvF4gNJYgIDn2aARDBJS70NDkSS1xv2jhRmhF1ayz3i9a8mEc+hvm8uMRryn5x/L\n",
       "zQq1SFu/rZPsbE0+kCiy2TZfqbOceI1mMdt03LfNe46g61a6hJJKUl0eMTdArQo2UiKpf0QrZG/x\n",
       "HRxxJrjZ+Tq96orlN779lVm+4SQtzKuz0mZA5LII2rQkS0Vq6pvt833QYvaxw+XWuN2wGXlLS9oG\n",
       "f0EcryAGDKkVYrQ5eZenbLmmWB1LUDRIpaGArQzigJCJgjCCJfiaiqmrRBib1FNpNsZ3qUxqOg78\n",
       "al5wN2MNV3W71kKjLLbFHEy+BkMsHy/ammnjmvwwU4L206e24n+xpAjABCGV8FSQxCA5pf4uDpMo\n",
       "pqFzLJrlFn1tgCqT4beUgLKX1dlcYrPQpRVWmip2jgW52hm659xe6hKnK4299VlRF/0Yld0SYRv7\n",
       "wYW4zXTGgS2bqC5JA2wgC3K4T6d5RQxAfH+mKSnehdKf1Lc3DchrvK7a/wP276HSBXmygbEV+N0K\n",
       "zR/nhJn7+jBDZrCyH+gt1UOkngn1gEdQC+N+8ORghWZaQXsMdtx+ffl2ODx00iAdTu9eHYJrkonn\n",
       "/FXG4hXbD/gVnvxZcCk7z5OZFGKA3bNwOlCzi/MwCPpiPavGvYJ8fUJdqVnmYGG50hPoQxJQxA+8\n",
       "GDv4sF3vMA22SRZEgnzTGpI++9bitbnJC609fML1OwKbj415jNzp7M0DVmpdvEsc3WC/t4nk4X6y\n",
       "Y2LIa/5TbRS2YLf793wAYWke6hMnsRHOSwoVFuwSndzVqJV1gfv1+uYguc2uqWgx7+Z9pHUyX7cJ\n",
       "JEGTlaO6ln4YoSYRwXdhAbpBoaSY18PQxF0N01Yz2ffLhNTHWLqiRfwCYfrruPXQfXw5u4eSG0S/\n",
       "vYYjfzvYVbkgAhyaDCoBCZ0N996jtM5ZXPOfxr6acylDtZn2V5EoRVUKkOWPjX6Z/l1PXOAmpcdL\n",
       "dqlcS2Y0orULlW6QDehUXcG8sBspOTjyvKVGxN018HQciDMExJuX3S4HwpQPwD4pM3I4OulbEUac\n",
       "cj0+PXEEm/QDGp8cIwt5SRNBmWowgGwf5RSZZ3yZpHb/XWardY4WnNquNgjOiFiHKHF1OVqbrSLY\n",
       "oQfkDWBvj+/4ZvHLwadZCnFX3g24ewb3uLRuKcdMS/1r/PHdJ/cFWm9jbADRTeyByyB5VNchU92T\n",
       "0x4z2E0rP9tjBjRrPamufpUY+kW1eEVV4yoOTAESWhsZ8dWGB90wBc95KQqw1KJXP4+r+6TAjOqk\n",
       "gZyFOhFiRe3U6fgB5rYWkzVoqPogqa/JUFSJgk/Ig0kYxcn/wGbgHK5w1etdVE0boBgf2W098AQl\n",
       "cMXUgclKDaljyx3hbeCFlHA0oDto1ZFtOPLgsi5N+jWEYmGKN8dNyPpHKN3hRvn87VBTWPrfqTNZ\n",
       "3Zt2SBNHboH+XzwKp9oD+2DWkJIU+nckOomPHS6E/b3tCLypDNNtXF2+oQ+oYIwcxyMRHBhWxbSS\n",
       "nW6wzEcDJs0IL/al788RNgfnbUFHtKtrKYCsyN8nGSnD4uqDJGn+T6OU/gUga0ZMDHlrvI3SIZr/\n",
       "PEmHqR3ZY2mXxTFoB0KmO1BtClGfEhb1qg+m+xJvBoMyEBhDS+nxEVca2hFXm6UgXiYi4ZJFMSQA\n",
       "NgzW1XwKAuKfVkqBDO+Gx8z7OzuyztleNY2FdGgwXaDIkpMhtGTwlHRDZjkMU6INuxs5bmS860sp\n",
       "JrEjiqJWK4XLNeQYT9k5LA0W4NQdzTdLbZqNnhBuPz3a0EdLEwIlCTgNTCEKXQHcOnOo/P1QN2Se\n",
       "i8tM5dFprKl2lBY69lTWr5mUwo1amV/MVIjow5DTSyiUuyR3QHdc7WNcLZ2HXlWjt+nasGHwuWYB\n",
       "pVBfw0tYBjXp0OehyY7R6p3hPSOIY6TIOPOymU81Rb5Ux402tbcG2AnaFc6CICAxQEmMs0dxyH+B\n",
       "5p5V/5q14yebfw5tWiHkug95f/aZFWXSKheyEkNOK2wt6/8maEgDl5sQAwo1kZIu1HwFb/o+WoZQ\n",
       "TZzFoE7QCVK63nnMKckKurt9VHDWnaZjRWYch871qkDMETr5Llni6Ctm3WUUAxLSN0kY3R23sAfq\n",
       "AI6+/2LV4nZ8BR5dJw8RW91bmjm6PkkMXcfT32e+UPZL1yXLLqr7px7k7CI8E3wFjFzyBaA7Yl+3\n",
       "eWlhVegW64OkVKKJfNn0UpTaKnDyGkLER8Nfaa2dhSm1Kx1yb/ZYeYeQbPIIZktMazTDcvsT1vzb\n",
       "h5+iiC9rJaaMbnUbPmzenyGkR2DKy56rY1iT0+enjgISPuKHwmDj8PsnyX0CbTOCYevp3hMmQ06K\n",
       "bH+x/M0N0g0LTQ7/Jo2+GhFOG+vX4ccMqNsjcpKrKWsaKaaIcRUvpq+mSTfCEn6ZD11cnrVuikRB\n",
       "OMvzkmWIEeAnAAADACYRfGoFPxAAAAMC2wAABVFBmiRsQQ/+qlUAFA+rsQbfqhAZ1Jc4YgEgntOs\n",
       "pqZY/VXIrQKcSym4J5Q4b5cUuYXjsLxN0GMqlg10fOxC0AuyXpXEeekhc7+Pu4S5XY2SG5MS+RvM\n",
       "GtvfQYJffujcX2jqfZuMjusoRsXN8u5XPnYC3PgksZ9lsUuoeeq6gqh0JEM4urQI7pM1E6pMAnRa\n",
       "Zu+0cAsER72VvEvU5fwMg2oqnc/qqJB6q6J1v44Q9L4pomtNDp5D4ix7JgX9d/zE6vnTUzVo5Xcy\n",
       "Z3PNbsPffApI1MbNxEsIRbE6dhDjT8STGyxgH+ZXq4jz5csHcuDpgExq1TyNyb3et3vKQNyrimMD\n",
       "hfWsZUt68UF+AME4c8l2mvE/S55yruw19CzFHJea8AnXMwwb7cvSpFsRNTJDrduOReIziCd1kIFe\n",
       "Q8Ff9stS7GFUkhOslnsUyA9JY5WmwXeb29fx9zEzCGv1tQb1SxNsGoSM3MNfBnvn3XYqt0dZIthR\n",
       "g9vECtiXQ0fOmdcmxI4KZ1GT+iCoHnMxc1ZSSziAinq2mtbv3w2nZhKk/Lasmbcu9jNGyNozPE96\n",
       "Sozap4C1g+cInzsGW2gR/9cgNpKjlcfgSAiub4frxC0gVSVGq6mrxrcatpWJVOwiadFrOYjQuVDc\n",
       "ufh2Yl2gYTE0wPIZz3tAtsoo8pMnftbaitXyQ2Obm7hET+0lqZFYosYoRbi6CI1CpFJKVbo/KY7s\n",
       "O8HFOUQk4LuGF2AZNprNnsy/TTYXNdyFPUemzIeUIJZ9vnbZ7vXM2PHpO8bu8jDU+2YMhtC6ub/T\n",
       "KXXzu4NuGTySW2zPqwy6szDqRhYSKXXhaA/4C+WHCPt/8WXYJxo1JeMbHm+b0F46bDSMr04pJcE5\n",
       "1JKmQwuD9dImJiARPaxWoQ7NVWbVwhD2Sv3QrhpQee2c5/KaRP/OpOmvZaTRZr0/X3uLzM4noZmM\n",
       "kcSSJrdUVIgmOfQ3HV3qQwhvZhjffmULzvN2Q1y6ywnq3Fl/UIbOR1DPEPEdbTu5Y9t8eYFgBtSr\n",
       "P7FLFL5ybu4YFV1xUU0ds5qX4LhNO2Je+ffefwgHzgd5kDBWPI/7BlPXa954KRfQdkPAoaBKaqUx\n",
       "SHVdrbCTGqDFEBmjDmJF3Cy0StZb/z5bJS30totGojIcBvBZE1v7dpGL96Lv0eUfXzwVMNhfVeCC\n",
       "lMMB1SaHKfMjaqdz/pU4VgDTG37xbKnfOawv0TaMW8N5TX+nQw55JOhH0RaN6ASSjsrekUT+j368\n",
       "skfhAazpmj++Cez/v0WjEhQ65SOj5mRS4r4XSrKG/QtOTyi4nkp9mfnoqDg7j20rT+jl0sURc/Yh\n",
       "0akWV2l+bZThtKf1Nyp+1SDefwZJA/X43vwDqVbOMB6j75zAE4d2p6sgC3EAWhbFkM91BQ8sEDB/\n",
       "qVT34oIhNVYAwO9kvFr9BgLAZ4VYFxckfjP/SNE7ynWJGDlxF1ROZJpGeHvJtzyS8Jzj1z59FZKZ\n",
       "MewbM0vBfCiU8tgfF8+nk3HqKk1DPFgV4vHy1ibNTBKe5KVALoIXeGFGSYs0zMbh0IqSqJJiQ6Ss\n",
       "EDO4YS+c4SXyE5OvIE+kOdeNN6YRLs9taFsuSTdH15C7r9LlpOXzB+RDmiY6aNFWMAt2TAg/rAnn\n",
       "CeVQJ9+4V6/OdpyuA1vywVU6NV+JhFYqCZ1fZerqMvuI1YxQdy2+y2xnipsrtDS/39FMnvNa4pX8\n",
       "/SpN9c0Pe9YgUeYeVAXL10+ECMf3QJgn0qzKLvQevRntR4el8cqhyMkLhFfJt7BKjLzJhzRMX/en\n",
       "hE2ezTYyXQAOOzWrur4c6qCncfigeAAAAeNBnkJ4h38AEv4dRogHrAHbSlvAx72bAE/V2X3ffjY9\n",
       "aA2ov1IuztQ6x5fVxSkvnonak5Cty9i9DkpL3vG0lioI0LhiPV1u81AqeyPSY2t6PnIZ+WCjI0hm\n",
       "xIYUnqbpfRR25KrzGdHgqL9OPaYa9QAbkrGId7spLBSkfBecFkqp28ji4QZF+853MUXl7xAKQ9Ra\n",
       "UK/xBG5cB/MXXawyM0GS3+2AtYCAc7ZSJMMg2hzr82FQXoMF5A2/BXGb8wNJWwUJbxTGFRNeLAAb\n",
       "iYOQGlixV5BIfLF9t8hHEahvVoW+BsQbJo+46LO0raUr55a9sjaRrw8g5CsaChQexkR+Ql6I5xow\n",
       "v/NzAP7shZc5WPj40vE2EBJpY2j/ZbUy2BGVgxg5qJCgjrN79fkH7TMc6Q+LPMOggQi8WmpbsTHw\n",
       "OyfQlZFshMQXl8ZrBD4EJtxQzVNWLm8rRu6Cr4Zqj0Q4XsbbrUpRIOe/lbUtuP6H4/P5oS8pSQPw\n",
       "P9rux8wgaWA1nYHwHnuxIZC44fcjo1h2NT8BPhHh45nYtF8SDweLMDTLcnKEsBSDoYsV4gu6QveM\n",
       "dx0nlGemE5XXrZfMUlS/stP6v/cISZ3aCTHlrU3SHkg50Fx2CpmBn9VwFzk84X1vCHEkCFkAAAGv\n",
       "AZ5hdEN/ABufhxQHAFFQvwz4KfXl6Sv18dys4rB/uFFbEPe2xWmZLI9ahLkVVKWqiDKx7MJ0lIuW\n",
       "5mPPYMCHV+1ryEuNQRbWvaFxQJpnsZaG6lktKsiN5EZQeRrJIyXs0hgrVBm5ocQWuMh/biuMiUfR\n",
       "EHI7Y+e2BLou1YIsul5dM11gGVl+G7JpRpwMJK3KZVaq2tmAQHm8N0ttFY+wDF/NXrPjzlRNVGAc\n",
       "EiVdq85Z9YjsIFLgizfQ/mzZ6FceL/uGUim0D8I3rm8BreC+M9C9J+DMzbZ07vED1CEDh5i/w800\n",
       "opLttZ1QMCryK910Mot5n4gJu7lo+4ESSWJsRJga+HOpeXRe49xxVkBeg8yh6ZwrB0dRWTcHsrRK\n",
       "M5YZ2PGR3qkbra9rbWkPET13neUh+sd6asF1+enQcBQTUKvjd9AdRyUL5ZbUDpnCr06Qq1MTcbXh\n",
       "GqNJubatTU5bRzkYpZoBywpJchSUHVe0S6RTP0ARsu8CHJqTjWN85Y+sk84dUEi1Nj+cbbrIZAqy\n",
       "f5bTYp8vrUmXpGhm6p86FiasgSs2kvsd2l1JH/QgBJwAAAF1AZ5jakN/ABujnfmB+YfUNvNh/Joa\n",
       "wZSdvC0aoLoAZRliPJkMTIqJucH50DNEn0d7fEbzJqbmeVGDdCxcKbh+yQij1/4x+bb0VMrcCipe\n",
       "ZGxT5abS4sMCp1uG7KY9sstn/MADesmyKMkvfVqaGpPJgeA1uu7eEByx+2f+81tLUmrSX7GPcIHI\n",
       "ULCBp9SUf1LBceWAbkp6xtaviLdmVa/Sj0Ye1qd36p6yVf+gJDEMuRx/4LyDpY2DiSRp9oWRjyr2\n",
       "8mCVAKueHXnI9VE/LRhI3JsASfWCZ+Q418okLgJDM9yiWJ5tRrBPJNdeQgRh6zuut+wKgLbmOQUo\n",
       "D8ms0k3pYUq6TrAGeBRCc+V4NuGZyMN7HGsJMQVNljmpgCL3OLMmcUBc1Mek9KK56vDWph1wK7Ao\n",
       "ISC9Wh0R9Wx0YqOC2Ku6NC9wEZwp+nplA9dhzq8yR0j1O4tNn5/ToXIBnH4SoWDTxLxRuDB3ONiZ\n",
       "4IVgGaV7cVg44QAAA1lBmmhJqEFomUwId//+qZYAJwtW6rIF+IYtg9QggSCZNjPQLQUgL1B3aoXH\n",
       "/G6XwwDHJCYkIvkUZCpRtzsaJWLbKKGxjNHr9tUCDvwoHBiarP4pb6zVyOcA2MMHEcGF+2/nUa4C\n",
       "S8V8X/EREXlwr4SE+tPe3DQoi3oLcappWp+ZvLUyCd6Jv2gkr+PIvAeFSqrPaf8BAIZLaUFCean1\n",
       "rrqgOWvLwqV8342p1qQQOIsRJQKevkd6B0XunG/WUV22XDekHVrR33lBR+j7jPP7GoaZTw44K/H1\n",
       "B2ak1i6l5gejIdLNGcZOrUCtg3jecl8Ny3yeSelDI9iXEByOMtkLubbuiUk1Ed67odlvISQpOQip\n",
       "/pmUjWJQSKgMIt2FBmAJjPsCKrwk9PToVJnFw4NRkzgQZ+jBBA9MzlDPgPmL1JT1IeW95JGxWqeO\n",
       "8bPm1MT38jTRcW2cou65BkSAzT7dfWW7ZKUaxT6h6r/6lNuA5ME170SgU4dP2SIHxapRMUL+hst3\n",
       "SA1knZC9Q19It/VIfZi4i6CiqZfhgwfeS/gGO6cWLrQUCyFj2YCh1D/LLZ8PBqXOHJxM8sTR2KvI\n",
       "WAvsw5cnlWR48iDDAoxrbAbevWPSKl4DSJG3j3K65MlPhm1vCuehs8zc7a0VrJc4OWQ6/DRG9WQs\n",
       "mcsXelU4DR2ECAjfMog6PZY5X6ZpkhLLsrV/J0/XDU5BKFyXJXHT/vB4saJkzcn2ZM0c9D/tIkRq\n",
       "0sx7PfWbq8W/gDFuCXz40TRVXyCxSk+9JO23TTI/1zkrnTmrc+t6TiJhIBUr8Z3AGCE67EzDVHku\n",
       "Guy9m8YL6U3j1MZD1Wgf5DJrbAN3fu3Fuz8iOu2AJrICTA4BBLrgBFvZn7idF3qabARFkhBAWSCN\n",
       "l05yoJlwLLQjLEkDPhdK4P/EKhQ3oLHhpYq5xOWC9xQIG4SXXcpILHMbzEXxBI5hPz0UjHDa8m8p\n",
       "Jmf4iru4V8rFGSgoA6uFjUMfFgdQdtwsnfOHpf6ryerdhPQ0f1eOMA5utiZeDOxRbNLaNVXh9ZSq\n",
       "V16lBFHxaYYPQreC6PI7GLi81xJRSaxrPxRfucjvUEycVwQsI5gtR5yRvb7SCYiAdzoQd8XZUFm2\n",
       "OrEO5Wc6rspXYzrFHrB0wQAAAghBnoZFESw7/wATh8BJOBAFPPXlaSh3X+NpYERqeNTorIEV8uZi\n",
       "yQ2/9H+13Yp6KB9fPkwkZfeXKb5vsKZ39FruDmzZ62W2QyL0zGKLN9tKYnADaB19pngoZ9cx9DkV\n",
       "gTyNOdA6EQSJO2jCRUMswOsOuwBrd4ZRKgaq2fI2+vVSpE1zugSvOMIsd9dx/syzX0pLroB4pma7\n",
       "NFyW7Nsh1oGlJKTfIZ/rlfb897bEpmXOE81HmFggoLxUvbRwZgMYOL8ySLcEhWv7jKFe8b7tGD8u\n",
       "+GuaQyAfgfIQacuZeFu+iHnwND8AuYAhf1/KVqwPAmxF5eAiiIdZE0bEv45Fe4+smkPUNWpk0lkk\n",
       "vSHuZpygWAmGldPPogtDh0ksj48AVgvKD5DsVi2itRIiZ5D1z6q/IRtRyDOZdnV0/Rjsilk2n3Gf\n",
       "F4MSB6i7UZh+pUtWZZbqjMpS9exkgOiGh3yCwSJolD9D+XnnsWbCH0IRxMDp0QwfsZ9rh34Cceu1\n",
       "9HYDsy4YsaeHx4e95kPqETCCwraEqrNDpnaHFhvC3WNKAyh/g4PhNmTzdTGe4ImPYZw//v6O/yXL\n",
       "y5J29neMfJSsd4dxPbAQe/yKIxoI6H32ipZsyk7FefTLqA0enRO9i63z5eDhw3NPnKllbjQlOjTl\n",
       "YOQyAhwktPHx6O+pijB1T5J3oOTlBGtwbhlRAAABlwGepXRDfwAZwYv0hCKpSTfYFdvufDCjtaWE\n",
       "cP1gWzYAHi4qUPNDrbaq5QY7B0GDz6Ed5oOUngS+tCujwN9y7Xvyfx3727g6v8ZsYXWPby3qBRYD\n",
       "dt2PHfu8dqSLw8B5pC7QD/5fRJFUm4Sa83B03ETBrgUN2tb5MpDaSFsasVzjPrOC6+ojsaaIpF8t\n",
       "9qYITRdAs6GXA9kOc5ChmsJrHLFQvI4BZ22rWvCwDamfzQH3eOFKJBo5hLvlPCHmHWNvpq9Nwmza\n",
       "5sZhirK5R0dUNeR/ojEvfqkkJtgDJRhy/sVmQhNqcIB1RKHh7UHtn9qb5zibT5etG1Zh2Le7y+gy\n",
       "3v00IJWnbvehaorWgT0XqDluALIO5zndDLISoK/3+eSYShIcfEQbcotzAZSH1Eb4Vk8so2JjJPST\n",
       "CZL0BhocSt15TDq8v8830Z+w+rCaALn6XDpfolJ3+2rIFGi7gx1PFjbTzwRcl3MKq3FvonYA4el5\n",
       "Xpuk9XbcuzUOh8031N98MxFKJ6lo8LNzBV7YFFLyHcWVF/RoAMaBAAABcwGep2pDfwAbBTaQbAG4\n",
       "2NVauAKZYlVPFFF9cp+Cx1WN10BbfueTyz1rlyA+ts4GaCwnTpe3gSFL+5Sd6lhS4qKPxBGLSg00\n",
       "dY9tWXwmOLsDROly83kYRwgVbqB6RtiJg2U9i8G1kAsqWoOP17XAIRiDqbyBH759faEFLCUABUZJ\n",
       "+NFXvGJ4iz8wk7AHU5wE1mKiz7uH2E8TN7/hQZiIXz1IqS1DZGTfwb22GuSpushIlSuhy2A5HGxe\n",
       "ix3hPasQFaosAG2DW97tz+rTrgJvFRPZe8PhQ975gh1/wGi01rr9sSWUwfoNxOKwIaG0AMuVJyqU\n",
       "lkDYDL1bYUve57yKS8LWO1pyz8Jb5EZEhW1rrP7I3CNvdBjDouWhq+pwz0IDfjobBi2ARSv7LVfE\n",
       "L1J9j/fwwVCH9mV/C7Q9J4tNi5bPtvawfN05UuKJI8j3mkZtitLIt9eMVHn1kYEtNGgatH1W5FiV\n",
       "bKIy+8cn+sEBOYy8HAxYAAAC/EGaqUmoQWyZTAhv//6nhABNT9RE2TYNlMeARSgmn5uF3PMKOEjx\n",
       "ubefOTy9X5CS+PC+ZMahHIVnU6+K7B/qgqoKWsXhtHfCU1GtIgUYXax29JW2nlTdIqRvEYa/gq/c\n",
       "SSSmeBYGD3qYymMetyFU6YDeb56+jvKyNeo2OoTp3XrqlabgqDdaMAXXCOgPs96Xs0fL4zKwF1Mv\n",
       "oIixobWgk1g1iX3gU6vGfc/bKzAomRLXE8bm4PecItIc4jRibapSrODhZ3Xy3tQVScRT/TKo/8QN\n",
       "7il1MCQJPY6YQEKltW75GVOfTpBzpQf2qJSXb6uyFBSJtSnT8bz9THjhmMrRxP5R1TxnOUDgPBeo\n",
       "+DDGyGSv/39ZVGac+uiJO7BTHVnK2p7iQAFpzbOee608LWRE8nXaIU5XwAdx+9QZTm9/t+PVSp1R\n",
       "Qam1A0e+0ccGoH39QnFt/ue51+etV2VIf0LmJL/4/LyYUal6IYn2z99uqm43MWetAG4OElePGEVI\n",
       "yrG52yEonQl7Fb76ZKMPH3Yr+XmYVEailCoFakE4CLzNLXOEg4kvA57xCMHNtx3TUbtFKDVa4QL2\n",
       "nsvStw6gs6jo8cBoM/QjOiVRan436Sa4Jt8xJsrK09Ys7OlVqPYaroZd9Z09dCH+st2+jOJKo2qF\n",
       "S0+Hu00DIBNWfKkeReW3dYyro5m9FWk8TSGInfnpMCNq3YX1PldfXO88PBq6dWbHQz32etn/hBm+\n",
       "9KP0z5O0unYP94jSYnghHlUlJLrrjOZIOMWHn0/FeZ1mXuhR96Z/A94XTj6JcJHkEm04qafqbsHM\n",
       "Cov7FewKfyjpMp2YvGyvRiCT3CJBZKiSf2rTHrXNIqLeqzsWpGzUz3DaO/PR7H1gBxqOp2Kkigx+\n",
       "nW28N6TlSIc6Pq/77qXWuaLjN53SkvluOB0buEZy1LsDsdUsD40YKrvccCtYimr6hDvQRFEQuVhW\n",
       "EDc4PbKMFemQdg8Lax9BLXs8AcVMGA6su8LvdHL3WargdGNGApNOSwP8AAADjG1vb3YAAABsbXZo\n",
       "ZAAAAAAAAAAAAAAAAAAAA+gAAAPoAAEAAAEAAAAAAAAAAAAAAAABAAAAAAAAAAAAAAAAAAAAAQAA\n",
       "AAAAAAAAAAAAAAAAQAAAAAAAAAAAAAAAAAAAAAAAAAAAAAAAAAAAAAAAAAIAAAK2dHJhawAAAFx0\n",
       "a2hkAAAAAwAAAAAAAAAAAAAAAQAAAAAAAAPoAAAAAAAAAAAAAAAAAAAAAAABAAAAAAAAAAAAAAAA\n",
       "AAAAAQAAAAAAAAAAAAAAAAAAQAAAAAJYAAABkAAAAAAAJGVkdHMAAAAcZWxzdAAAAAAAAAABAAAD\n",
       "6AAACAAAAQAAAAACLm1kaWEAAAAgbWRoZAAAAAAAAAAAAAAAAAAAKAAAACgAVcQAAAAAAC1oZGxy\n",
       "AAAAAAAAAAB2aWRlAAAAAAAAAAAAAAAAVmlkZW9IYW5kbGVyAAAAAdltaW5mAAAAFHZtaGQAAAAB\n",
       "AAAAAAAAAAAAAAAkZGluZgAAABxkcmVmAAAAAAAAAAEAAAAMdXJsIAAAAAEAAAGZc3RibAAAAJlz\n",
       "dHNkAAAAAAAAAAEAAACJYXZjMQAAAAAAAAABAAAAAAAAAAAAAAAAAAAAAAJYAZAASAAAAEgAAAAA\n",
       "AAAAAQAAAAAAAAAAAAAAAAAAAAAAAAAAAAAAAAAAAAAAAAAAABj//wAAADNhdmNDAfQAFv/hABpn\n",
       "9AAWkZsoEwZ8TwgAAAMACAAAAwCgeLFssAEABmjr48RIRAAAABhzdHRzAAAAAAAAAAEAAAAKAAAE\n",
       "AAAAABRzdHNzAAAAAAAAAAEAAAABAAAAYGN0dHMAAAAAAAAACgAAAAEAAAgAAAAAAQAAFAAAAAAB\n",
       "AAAIAAAAAAEAAAAAAAAAAQAABAAAAAABAAAUAAAAAAEAAAgAAAAAAQAAAAAAAAABAAAEAAAAAAEA\n",
       "AAgAAAAAHHN0c2MAAAAAAAAAAQAAAAEAAAAKAAAAAQAAADxzdHN6AAAAAAAAAAAAAAAKAAAU1wAA\n",
       "BVUAAAHnAAABswAAAXkAAANdAAACDAAAAZsAAAF3AAADAAAAABRzdGNvAAAAAAAAAAEAAAAwAAAA\n",
       "YnVkdGEAAABabWV0YQAAAAAAAAAhaGRscgAAAAAAAAAAbWRpcmFwcGwAAAAAAAAAAAAAAAAtaWxz\n",
       "dAAAACWpdG9vAAAAHWRhdGEAAAABAAAAAExhdmY1Ni40MC4xMDE=\n",
       "\" type=\"video/mp4\">\n",
       " Your browser does not support the video tag.\n",
       "</video>"
      ],
      "text/plain": [
       "<IPython.core.display.HTML object>"
      ]
     },
     "metadata": {},
     "output_type": "display_data"
    }
   ],
   "source": [
    "from ipywidgets import interact, interactive, fixed\n",
    "c=(0,10,1)\n",
    "@interact(z0=c,z1=c,z2=c,z3=c,z4=c,z5=c,z6=c,z7=c,z8=c,z9=c, num_images=(1,50,1), __manual=True)\n",
    "def images_from_codes(z0,z1,z2,z3,z4,z5,z6,z7,z8,z9, num_images=10):\n",
    "    images = generate_images_for_codes(c3_celebA_latent_spec, [z0,z1,z2,z3,z4,z5,z6,z7,z8,z9][:len(c3_celebA_latent_spec)-1])\n",
    "    print(\"Displaying sampled images as movie. Click to play.\")\n",
    "    return display_images([frame.reshape(dataset.image_shape) for frame in images[:num_images,:]])"
   ]
  },
  {
   "cell_type": "code",
   "execution_count": null,
   "metadata": {
    "collapsed": false
   },
   "outputs": [
    {
     "name": "stdout",
     "output_type": "stream",
     "text": [
      "WARNING:tensorflow:IOError [Errno 2] No such file or directory: '/usr/local/lib/python2.7/dist-packages/tensorflow/tensorboard/TAG' on path /usr/local/lib/python2.7/dist-packages/tensorflow/tensorboard/TAG\r\n",
      "WARNING:tensorflow:Unable to read TensorBoard tag\r\n",
      "Starting TensorBoard  on port 6006\r\n",
      "(You can navigate to http://0.0.0.0:6006)\r\n"
     ]
    }
   ],
   "source": [
    "!tensorboard --logdir /logs/celebA/celebA_model_celebA_codes_color_img-align-celeba_10_2017_03_15_02_20_02 "
   ]
  },
  {
   "cell_type": "code",
   "execution_count": null,
   "metadata": {
    "collapsed": true
   },
   "outputs": [],
   "source": []
  },
  {
   "cell_type": "code",
   "execution_count": null,
   "metadata": {
    "collapsed": true
   },
   "outputs": [],
   "source": []
  },
  {
   "cell_type": "code",
   "execution_count": null,
   "metadata": {
    "collapsed": true
   },
   "outputs": [],
   "source": []
  }
 ],
 "metadata": {
  "anaconda-cloud": {},
  "kernelspec": {
   "display_name": "Python 2",
   "language": "python",
   "name": "python2"
  },
  "language_info": {
   "codemirror_mode": {
    "name": "ipython",
    "version": 2
   },
   "file_extension": ".py",
   "mimetype": "text/x-python",
   "name": "python",
   "nbconvert_exporter": "python",
   "pygments_lexer": "ipython2",
   "version": "2.7.6"
  },
  "widgets": {
   "state": {
    "d80fc216af724f82b2cd98e19c23ef3d": {
     "views": [
      {
       "cell_index": 16
      }
     ]
    }
   },
   "version": "1.2.0"
  }
 },
 "nbformat": 4,
 "nbformat_minor": 0
}
